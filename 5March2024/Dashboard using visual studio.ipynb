{
 "cells": [
  {
   "cell_type": "code",
   "execution_count": null,
   "id": "3a4dc9a6",
   "metadata": {},
   "outputs": [],
   "source": []
  },
  {
   "cell_type": "code",
   "execution_count": null,
   "id": "2f7a6eec",
   "metadata": {},
   "outputs": [],
   "source": []
  },
  {
   "cell_type": "code",
   "execution_count": 1,
   "id": "7da1ec16",
   "metadata": {},
   "outputs": [],
   "source": [
    "import streamlit as st\n",
    "import pandas as pd\n",
    "import plotly.express as px"
   ]
  },
  {
   "cell_type": "code",
   "execution_count": 2,
   "id": "c45caae7",
   "metadata": {},
   "outputs": [],
   "source": [
    "df = pd.read_excel(r\"D:\\USB Drive\\Saltours International\\Dashboard\\5March2024\\DailyBookingReport - 5March2024 .xlsx\")"
   ]
  },
  {
   "cell_type": "code",
   "execution_count": null,
   "id": "513b4a9f",
   "metadata": {},
   "outputs": [],
   "source": []
  },
  {
   "cell_type": "code",
   "execution_count": 3,
   "id": "773b2d95",
   "metadata": {},
   "outputs": [
    {
     "name": "stderr",
     "output_type": "stream",
     "text": [
      "2024-03-11 10:18:40.139 \n",
      "  \u001b[33m\u001b[1mWarning:\u001b[0m to view this Streamlit app on a browser, run it with the following\n",
      "  command:\n",
      "\n",
      "    streamlit run c:\\Users\\hiras\\anaconda3\\envs\\Tensor_env\\lib\\site-packages\\ipykernel_launcher.py [ARGUMENTS]\n"
     ]
    }
   ],
   "source": [
    "st.set_page_config(\n",
    "    page_title='Booking Report',\n",
    "    layout='wide')\n",
    "\n",
    "# Dashboard Title\n",
    "st.title('Booking Report Live Dashboard')\n",
    "\n",
    "# Top level Filter\n",
    "agent_filter = st.selectbox('Select the Agent', pd.unique(df['Agent Name']))\n",
    "\n",
    "# DataFrame filter\n",
    "filtered_df = df[df['Agent Name'] == agent_filter]\n",
    "\n",
    "# Creating KPIs\n",
    "kpi1, kpi2, kpi3 = st.columns(3)\n",
    "\n",
    "# Fill in those 3 columns with respective metrics or KPIs\n",
    "kpi1.metric(label=\"No. of Night\", value=filtered_df['No Of Night'].sum())\n",
    "kpi2.metric(label=\"No. of Room\", value=filtered_df['No Of Room'].sum())\n",
    "kpi3.metric(label=\"Total Price\", value=f\"${filtered_df['Total Price'].sum()}\")\n",
    "\n",
    "# Create 2 columns with charts\n",
    "fig_col1, fig_col2 = st.columns(2)\n",
    "\n",
    "with fig_col1:\n",
    "    st.markdown('### Density Heatmap')\n",
    "    fig1 = px.density_heatmap(filtered_df, y='Total Price', x='No Of Night')\n",
    "    st.plotly_chart(fig1)\n",
    "\n",
    "with fig_col2:\n",
    "    st.markdown('### Price Histogram')\n",
    "    fig2 = px.histogram(filtered_df, x='Total Price')\n",
    "    st.plotly_chart(fig2)\n",
    "\n",
    "# Detailed View of DataFrame\n",
    "st.markdown('### Detailed View')\n",
    "st.write(filtered_df)\n"
   ]
  },
  {
   "cell_type": "code",
   "execution_count": null,
   "id": "18f90951",
   "metadata": {},
   "outputs": [],
   "source": []
  },
  {
   "cell_type": "code",
   "execution_count": null,
   "id": "f742b449",
   "metadata": {},
   "outputs": [],
   "source": []
  },
  {
   "cell_type": "code",
   "execution_count": null,
   "id": "46f899ab",
   "metadata": {},
   "outputs": [],
   "source": []
  },
  {
   "cell_type": "code",
   "execution_count": null,
   "id": "62638546",
   "metadata": {},
   "outputs": [],
   "source": []
  },
  {
   "cell_type": "code",
   "execution_count": null,
   "id": "8d37a70f",
   "metadata": {},
   "outputs": [],
   "source": []
  }
 ],
 "metadata": {
  "kernelspec": {
   "display_name": "Python 3 (ipykernel)",
   "language": "python",
   "name": "python3"
  },
  "language_info": {
   "codemirror_mode": {
    "name": "ipython",
    "version": 3
   },
   "file_extension": ".py",
   "mimetype": "text/x-python",
   "name": "python",
   "nbconvert_exporter": "python",
   "pygments_lexer": "ipython3",
   "version": "3.10.12"
  }
 },
 "nbformat": 4,
 "nbformat_minor": 5
}
